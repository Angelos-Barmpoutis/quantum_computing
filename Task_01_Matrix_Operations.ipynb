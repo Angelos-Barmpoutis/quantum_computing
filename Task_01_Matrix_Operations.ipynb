{
 "cells": [
  {
   "cell_type": "code",
   "execution_count": null,
   "metadata": {},
   "outputs": [],
   "source": [
    "# number * vector\n",
    "\n",
    "def num_by_vector(number, vector):\n",
    "    product = [v*number for v in vector]\n",
    "    return product\n",
    "\n",
    "\n",
    "number = 3\n",
    "vector = [4, 1, 3, -1]\n",
    "\n",
    "num_by_vector(number, vector)"
   ]
  },
  {
   "cell_type": "code",
   "execution_count": null,
   "metadata": {},
   "outputs": [],
   "source": [
    "# number * matrix \n",
    "\n",
    "def num_by_matrix(number, matrix):\n",
    "    num_rows_matrix = len(matrix)\n",
    "    product = []\n",
    "\n",
    "    for i in range(num_rows_matrix):\n",
    "        product.append([j*number for j in matrix[i]])\n",
    "    return product\n",
    "\n",
    "\n",
    "number = 3\n",
    "matrix = [[1, 2, 4], [0, 1, 3], [2, 1, 2]]\n",
    "\n",
    "num_by_matrix(number, matrix)"
   ]
  },
  {
   "cell_type": "code",
   "execution_count": null,
   "metadata": {},
   "outputs": [],
   "source": [
    "# vector * vector \n",
    "\n",
    "def vector_by_vector(vector1, vector2):\n",
    "    product = 0\n",
    "\n",
    "    if len(vector1) == len(vector2):\n",
    "         for i in range(len(vector1)):\n",
    "            product += vector1[i] * vector2[i]\n",
    "    return product\n",
    "\n",
    "\n",
    "vector1 = [2, 1, 1]\n",
    "vector2 = [1, 3, 0]\n",
    "\n",
    "vector_by_vector(vector1, vector2)"
   ]
  },
  {
   "cell_type": "code",
   "execution_count": null,
   "metadata": {},
   "outputs": [],
   "source": [
    "# matrix * matrix \n",
    "\n",
    "def matrix_by_matrix(matrix1, matrix2):\n",
    "    num_rows_matrix1 = len(matrix1)\n",
    "    num_rows_matrix2 = len(matrix2)\n",
    "    product = []\n",
    "\n",
    "    if len(matrix1[0]) == len(matrix2):\n",
    "        for i in range(num_rows_matrix1):\n",
    "            product.append([])\n",
    "            for j in range(len(matrix2[i])):\n",
    "                product[i].append(0)\n",
    "\n",
    "                for k in range(num_rows_matrix2):\n",
    "                    product[i][j] += matrix1[i][k] * matrix2[k][j]\n",
    "        return product\n",
    "\n",
    "                \n",
    "matrix1 = [[2, 1, 2], [1, 3, 1]]\n",
    "matrix2 = [[1, 1, 2, 0] , [0, 2, 1, 1], [2, 2, 3, 0]]\n",
    "\n",
    "matrix_by_matrix(matrix1, matrix2)"
   ]
  },
  {
   "cell_type": "code",
   "execution_count": null,
   "metadata": {},
   "outputs": [],
   "source": [
    "# Kronecker product\n",
    "\n",
    "def kronecker_product(matrix1, matrix2):\n",
    "    num_rows_matrix1 = len(matrix1)\n",
    "    num_rows_matrix2 = len(matrix2)\n",
    "    product = []\n",
    "    cnt = 0\n",
    "    for i in range(num_rows_matrix1):     \n",
    "        for j in range(num_rows_matrix2):         \n",
    "            product.append([])          \n",
    "            for m1 in matrix1[i]:\n",
    "                 for m2 in matrix2[j]:                 \n",
    "                     product[cnt].append(m1 * m2)             \n",
    "            cnt += 1\n",
    "    return product\n",
    "\n",
    "\n",
    "matrix1 = [[2, 1], [0, 4]]\n",
    "matrix2 = [[1, 0, 2], [1, 1, 2], [0, 0, 2]]\n",
    "\n",
    "\n",
    "kronecker_product(matrix1, matrix2)"
   ]
  },
  {
   "cell_type": "code",
   "execution_count": null,
   "metadata": {},
   "outputs": [],
   "source": []
  }
 ],
 "metadata": {
  "kernelspec": {
   "display_name": "Python 3",
   "language": "python",
   "name": "python3"
  },
  "language_info": {
   "codemirror_mode": {
    "name": "ipython",
    "version": 3
   },
   "file_extension": ".py",
   "mimetype": "text/x-python",
   "name": "python",
   "nbconvert_exporter": "python",
   "pygments_lexer": "ipython3",
   "version": "3.7.4"
  }
 },
 "nbformat": 4,
 "nbformat_minor": 2
}
